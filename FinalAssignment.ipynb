{
 "cells": [
  {
   "cell_type": "code",
   "execution_count": 1,
   "metadata": {},
   "outputs": [],
   "source": [
    "import jieba\n",
    "import jieba.analyse\n",
    "import numpy as np\n",
    "import re\n",
    "import matplotlib.pyplot as plt\n",
    "#import nltk\n",
    "from snownlp import SnowNLP\n",
    "from selenium import webdriver\n",
    "from nltk.tokenize import sent_tokenize\n",
    "import time"
   ]
  },
  {
   "cell_type": "code",
   "execution_count": 2,
   "metadata": {},
   "outputs": [],
   "source": [
    "def loadScores():\n",
    "    \"\"\"\n",
    "         从QS_Scores.txt中读取每个大学的评分，返回嵌套的列表数据\n",
    "    \"\"\"\n",
    "    fileContent = []\n",
    "    lineCount = 0\n",
    "    f = open(\"QS_Scores.txt\", \"r\")\n",
    "    tempContent = []\n",
    "    for line in f:\n",
    "        tempContent.append(line.strip('\\n'))\n",
    "        lineCount += 1\n",
    "        if lineCount % 9 == 0:   #行数求余9为0，意味着一个大学的9行信息读取完毕\n",
    "            fileContent.append(tempContent)\n",
    "            tempContent = []\n",
    "    f.close()\n",
    "    print(\"QS_Scores loaded successfully!\")\n",
    "    return fileContent"
   ]
  },
  {
   "cell_type": "code",
   "execution_count": 3,
   "metadata": {},
   "outputs": [],
   "source": [
    "def loadComments():\n",
    "    \"\"\"\n",
    "        从Comments.txt中读取爬下来的评论，返回一个字典，键值为大学名称，值为评论列表\n",
    "    \"\"\"\n",
    "    fileContent = {}\n",
    "    f = open(\"Comments.txt\", \"r\", encoding=\"utf-8\")\n",
    "    key = \"\"\n",
    "    for line in f:\n",
    "        if line.startswith(\"##\"):\n",
    "            key = line[2:-1]\n",
    "            fileContent[key] = []\n",
    "            continue\n",
    "        fileContent[key].append(line[1:-1])\n",
    "                \n",
    "    f.close()\n",
    "    print(\"Comments.txt loaded successfully!\")\n",
    "    return fileContent"
   ]
  },
  {
   "cell_type": "code",
   "execution_count": 4,
   "metadata": {},
   "outputs": [],
   "source": [
    "def loadStopWords():\n",
    "    \"\"\"\n",
    "        从stopwords.txt中读取停词，并返回停词\n",
    "    \"\"\"\n",
    "    f = open('stopwords.txt',\"r\")\n",
    "    stopwords = f.read()\n",
    "    f.close()\n",
    "    return stopwords"
   ]
  },
  {
   "cell_type": "code",
   "execution_count": 5,
   "metadata": {},
   "outputs": [],
   "source": [
    "def filterString(text):\n",
    "    \"\"\"\n",
    "        筛选合格的爬虫语句\n",
    "    \"\"\"\n",
    "    if re.search(r\"http|SAT|GRE|GMAT|IELTS|TOEFL|#\", text): #剔除网站链接和英语成绩相关\n",
    "        return False\n",
    "    if re.search(r\"[a-zA-Z]*(\\s+)[a-zA-Z]*\",text): #剔除英文短语和句子（允许出现个别无空格单词）\n",
    "        return False\n",
    "    if re.match(r\"[a-zA-Z]*[0-9(——)(#)(\\:)(\\[)(\\])(\\{)(\\})(\\=)(\\-)(\\.)(+)(-)(_)(?)(\\s)]+[a-zA-Z]*\",text): #剔除只由标点符号和数字空格组成的无意义字符\n",
    "        return False\n",
    "    if re.search(r\"申请\",text): #剔除含“申请”字样的内容\n",
    "        return False\n",
    "    return True"
   ]
  },
  {
   "cell_type": "code",
   "execution_count": 6,
   "metadata": {},
   "outputs": [],
   "source": [
    "def filterAndFormat(text):\n",
    "    \"\"\"\n",
    "         对爬下来的文本进行断句，并进行筛选\n",
    "    \"\"\"\n",
    "    thisP = []\n",
    "    for line in sent_tokenize(text):\n",
    "        if filterString(line):\n",
    "            thisP.append(\"#\" + line + \"\\n\")\n",
    "    return thisP"
   ]
  },
  {
   "cell_type": "code",
   "execution_count": 7,
   "metadata": {},
   "outputs": [],
   "source": [
    "def scrapingComments(universityList):\n",
    "    \"\"\"\n",
    "         启动爬虫程序，传入参数为大学名称列表，将评论保存在Comments.txt中\n",
    "    \"\"\"\n",
    "    baseURL = \"https://www.zhihu.com/search?type=content&q=\"\n",
    "    browser = webdriver.Chrome()\n",
    "    #nltk.download('punkt')\n",
    "    f = open(\"Comments.txt\", \"w\", encoding =\"utf-8\")\n",
    "    for universityName in universityList:\n",
    "        buttonCount = 0\n",
    "        usefulButton = 0\n",
    "        browser.get(baseURL + universityName)\n",
    "        f.write(\"##\" + universityName + \"\\n\")\n",
    "        buttonCount = len(browser.find_elements_by_tag_name(\"button\"))\n",
    "        for i in range(buttonCount):\n",
    "            button = browser.find_elements_by_tag_name(\"button\")[i]\n",
    "            i += 1 \n",
    "            if button.text == \"阅读全文\":\n",
    "                usefulButton += 1\n",
    "                button.click()                     \n",
    "                for p in browser.find_elements_by_css_selector(\".RichContent-inner p\"):\n",
    "                    for t in filterAndFormat(p.text):\n",
    "                        f.write(t)                 \n",
    "                if usefulButton > 15:\n",
    "                    break\n",
    "                time.sleep(5)\n",
    "                browser.refresh()\n",
    "    f.close()\n",
    "    browser.close()\n",
    "    print(\"Comment.txt refreshed successfully!\")"
   ]
  },
  {
   "cell_type": "code",
   "execution_count": 8,
   "metadata": {},
   "outputs": [],
   "source": [
    "def preprocess(row, stopwords):\n",
    "    row = re.sub('[a-zA-Z0-9]', '', row)\n",
    "    seg_list = jieba.cut(row)\n",
    "    segs = [word for word in seg_list if word not in stopwords]  # remove stopwords\n",
    "    return ' '.join(segs) if segs else \" \""
   ]
  },
  {
   "cell_type": "code",
   "execution_count": 9,
   "metadata": {},
   "outputs": [],
   "source": [
    "def computeComments(comments, stopwords):\n",
    "    \"\"\"\n",
    "         计算所有大学的评论得分，返回一个字典，键值为大学名称，值为评论得分\n",
    "    \"\"\"\n",
    "    commentsScores = {}\n",
    "    for key in comments.keys():\n",
    "        commentsScores[key] = 0\n",
    "        count = 0\n",
    "        for comment in comments[key]:\n",
    "            seg = preprocess(comment, stopwords)\n",
    "            s1 = SnowNLP(seg)\n",
    "            commentsScores[key] += s1.sentiments\n",
    "            count += 1\n",
    "        try:\n",
    "            commentsScores[key] = commentsScores[key]*100 / count\n",
    "        except ZeroDivisionError:\n",
    "            commentsScores[key] = 0.5\n",
    "    \n",
    "    return commentsScores"
   ]
  },
  {
   "cell_type": "code",
   "execution_count": 10,
   "metadata": {},
   "outputs": [],
   "source": [
    "def computeFinalScores(QSScores, commentsScores, percent):\n",
    "    \"\"\"\n",
    "         根据评论得分的百分比计算所有大学的总分，返回一个字典，键值为大学名称，值为总分\n",
    "    \"\"\"\n",
    "    finalScores = {}\n",
    "    for universityFormal in QSScores[:20]:\n",
    "        finalScores[universityFormal[1]] = 0\n",
    "        for oneScore in universityFormal[2:]:\n",
    "            finalScores[universityFormal[1]] += float(oneScore)\n",
    "        finalScores[universityFormal[1]] = (finalScores[universityFormal[1]] * ( 100 - percent) / 7 + percent * commentsScores[universityFormal[1]]) / 100 \n",
    "    return finalScores"
   ]
  },
  {
   "cell_type": "code",
   "execution_count": 11,
   "metadata": {},
   "outputs": [],
   "source": [
    "def computeRanks(QSScores, commentsScores, universityList):\n",
    "    \"\"\"\n",
    "        根据大学列表返回大学列表对应的排名，返回 一个字典，键为大学名称，值为排名列表\n",
    "    \"\"\"\n",
    "    ranks = {}\n",
    "    ranks[universityList[0]] = []\n",
    "    ranks[universityList[1]] = []\n",
    "    ranks[universityList[2]] = [] \n",
    "    for percent in range(0,110,10):       \n",
    "        finalScores = computeFinalScores(QSScores,commentsScores,percent)\n",
    "        #printFinalScores(finalScores,str(percent)) \n",
    "        sortedFinalScores = sorted(finalScores.items(), key = lambda x:x[1], reverse=True)\n",
    "        i = 1  \n",
    "        for universityName in sortedFinalScores:\n",
    "\n",
    "            if universityName[0] == universityList[0]:\n",
    "                ranks[universityList[0]].append(i)\n",
    "            if universityName[0] == universityList[1]:\n",
    "                ranks[universityList[1]].append(i)\n",
    "            if universityName[0] == universityList[2]:\n",
    "                ranks[universityList[2]].append(i)\n",
    "            i += 1\n",
    "    return ranks"
   ]
  },
  {
   "cell_type": "code",
   "execution_count": 12,
   "metadata": {},
   "outputs": [],
   "source": [
    "def printFinalScores(finalScores,percent):\n",
    "    \"\"\"\n",
    "        打印根据输入评论占比的列表\n",
    "    \"\"\"\n",
    "    sortedFinalScores = sorted(finalScores.items(), key = lambda x:x[1], reverse=True)\n",
    "    i =  1\n",
    "    print(\"When comments is \" + percent + \"%, the final rank is: \")\n",
    "    print(\"Rank:    University Name:                             Scores:\")\n",
    "    for item in sortedFinalScores:\n",
    "        print(\"{0:<9}{1:45}{2:.2f}\".format(i, item[0], item[1]))\n",
    "        i += 1"
   ]
  },
  {
   "cell_type": "code",
   "execution_count": 13,
   "metadata": {},
   "outputs": [],
   "source": [
    "def drawDiagram(QSScores, commentsScores):\n",
    "    \"\"\"\n",
    "        画其中三个大学排名随评论得分占比变化的统计图\n",
    "    \"\"\"\n",
    "    universityList = [\"Imperial College London\",\"Princeton University\",\"National University of Singapore\"]   \n",
    "    ranks = computeRanks(QSScores, commentsScores, universityList)       \n",
    "    plt.figure(figsize=(8,6))\n",
    "    plt.plot(range(0, 110, 10), ranks[universityList[0]],\"b-o\", range(0, 110, 10), ranks[universityList[1]],\"g-^\", range(0, 110, 10), ranks[universityList[2]],\"r-x\")\n",
    "    plt.xlim((0,110)) #设置x坐标取值范围\n",
    "    plt.ylim((20,0)) #设置y坐标取值范围\n",
    "    plt.xticks(np.arange(0,110,10)) #设置x坐标间隔\n",
    "    plt.yticks(np.arange(1,20,1)) #设置y坐标间隔\n",
    "    plt.xlabel('Comment Percent', size = 18) #设置x轴说明\n",
    "    plt.ylabel('Ranks', size = 18) #设置y轴说明\n",
    "    plt.title('Ranks of Three Universities with Different Comment Percent') #设置表格标题\n",
    "    plt.legend(universityList, loc = 'lower right') #设置图线说明\n",
    "    plt.show()\n",
    "    plt.close()"
   ]
  },
  {
   "cell_type": "code",
   "execution_count": 14,
   "metadata": {},
   "outputs": [
    {
     "name": "stdout",
     "output_type": "stream",
     "text": [
      "QS_Scores loaded successfully!\n"
     ]
    }
   ],
   "source": [
    "QSScores = loadScores()\n",
    "#universityList = [log[1] for log in QSScores]\n",
    "#scrapingComments(universityList[:20])"
   ]
  },
  {
   "cell_type": "code",
   "execution_count": 15,
   "metadata": {},
   "outputs": [
    {
     "name": "stdout",
     "output_type": "stream",
     "text": [
      "Comments.txt loaded successfully!\n"
     ]
    }
   ],
   "source": [
    "comments = loadComments()"
   ]
  },
  {
   "cell_type": "code",
   "execution_count": 16,
   "metadata": {},
   "outputs": [
    {
     "name": "stderr",
     "output_type": "stream",
     "text": [
      "Building prefix dict from the default dictionary ...\n",
      "Loading model from cache C:\\Users\\lixuy\\AppData\\Local\\Temp\\jieba.cache\n",
      "Loading model cost 0.634 seconds.\n",
      "Prefix dict has been built succesfully.\n"
     ]
    }
   ],
   "source": [
    "commentsScores = computeComments(comments,loadStopWords())"
   ]
  },
  {
   "cell_type": "code",
   "execution_count": 17,
   "metadata": {},
   "outputs": [
    {
     "name": "stdout",
     "output_type": "stream",
     "text": [
      "Please input the percent of the comments: 23\n"
     ]
    }
   ],
   "source": [
    "percent  = input(\"Please input the percent of the comments: \")"
   ]
  },
  {
   "cell_type": "code",
   "execution_count": 19,
   "metadata": {},
   "outputs": [],
   "source": [
    "finalScores = computeFinalScores(QSScores,commentsScores,float(percent))"
   ]
  },
  {
   "cell_type": "code",
   "execution_count": 20,
   "metadata": {},
   "outputs": [
    {
     "name": "stdout",
     "output_type": "stream",
     "text": [
      "When comments is 23%, the final rank is: \n",
      "Rank:    University Name:                             Scores:\n",
      "1        Massachusetts Institute of Technology        94.83\n",
      "2        University of Oxford                         92.64\n",
      "3        Imperial College London                      92.43\n",
      "4        California Institute of Technology           92.33\n",
      "5        Stanford University                          91.69\n",
      "6        University of Cambridge                      91.21\n",
      "7        Swiss Federal Institute of Technology        90.69\n",
      "8        UCL                                          90.21\n",
      "9        Harvard University                           89.28\n",
      "10       Ecole Polytechnique Federale de Lausanne     88.90\n",
      "11       Nanyang Technological University, Singapore  87.87\n",
      "12       National University of Singapore             87.60\n",
      "13       University of Chicago                        85.49\n",
      "14       Cornell University                           85.35\n",
      "15       Princeton University                         85.25\n",
      "16       Yale University                              82.13\n",
      "17       Columbia University                          81.70\n",
      "18       The University of Edinburgh                  81.68\n",
      "19       University of Pennsylvania                   81.09\n",
      "20       Tsinghua University                          76.51\n"
     ]
    }
   ],
   "source": [
    "printFinalScores(finalScores,str(percent))"
   ]
  },
  {
   "cell_type": "code",
   "execution_count": 21,
   "metadata": {},
   "outputs": [
    {
     "data": {
      "image/png": "[encoded data removed]",
      "text/plain": [
       "<Figure size 576x432 with 1 Axes>"
      ]
     },
     "metadata": {
      "needs_background": "light"
     },
     "output_type": "display_data"
    }
   ],
   "source": [
    "drawDiagram(QSScores,commentsScores)"
   ]
  }
 ],
 "metadata": {
  "kernelspec": {
   "display_name": "Python 3",
   "language": "python",
   "name": "python3"
  },
  "language_info": {
   "codemirror_mode": {
    "name": "ipython",
    "version": 3
   },
   "file_extension": ".py",
   "mimetype": "text/x-python",
   "name": "python",
   "nbconvert_exporter": "python",
   "pygments_lexer": "ipython3",
   "version": "3.7.3"
  }
 },
 "nbformat": 4,
 "nbformat_minor": 2
}
